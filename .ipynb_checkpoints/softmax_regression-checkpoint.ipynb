{
 "cells": [
  {
   "cell_type": "markdown",
   "id": "5e5aeee1-2103-4fb5-a2f2-84991484968b",
   "metadata": {},
   "source": [
    "# EECS 545 (WN 2025) Homework 2 Q2: Softmax Regression via Gradient Ascent\n",
    "\n",
    "<span class=\"instruction\">Before starting the assignment, please fill in the following cell.</span>"
   ]
  },
  {
   "cell_type": "code",
   "execution_count": 1,
   "id": "093f2bf9-9252-4d9e-b8c3-3b5a0e99fb51",
   "metadata": {},
   "outputs": [
    {
     "name": "stdout",
     "output_type": "stream",
     "text": [
      "Your name and email: Andrew Mayo <acmayo@umich.edu>\n"
     ]
    }
   ],
   "source": [
    "###################################################################\n",
    "# Enter your first and last name, e.g. \"John Doe\"                 #\n",
    "# for example                                                     #\n",
    "__NAME__ = \"Andrew Mayo\"                                        #\n",
    "__UNIQID__ = \"acmayo\"                                          #\n",
    "###################################################################\n",
    "###################################################################\n",
    "#                        END OF YOUR CODE                         #\n",
    "###################################################################\n",
    "\n",
    "print(f\"Your name and email: {__NAME__} <{__UNIQID__}@umich.edu>\")\n",
    "assert __NAME__ and __UNIQID__"
   ]
  },
  {
   "cell_type": "markdown",
   "id": "ecc5b473-5ec6-466d-a466-b0b077a8f3cc",
   "metadata": {},
   "source": [
    "# Softmax Regression via Gradient Ascent\n",
    "In this notebook you will implement a gradient ascent for softmax regression from a given dataset. \n",
    "\n",
    "Among various ways in computing gradient, we will use gradient ascent update rule derived in our homework.\n",
    "\n",
    "After implementing it, you will report the accuracy of your implementation."
   ]
  },
  {
   "cell_type": "markdown",
   "id": "00a2e071-6a48-44de-9012-d2e8b3cfe8b0",
   "metadata": {},
   "source": [
    "## Setup code\n",
    "Before getting started, we need to run some boilerplate code to set up our environment. You'll need to rerun this setup code each time you start the notebook. Let's start by checking whether we are using Python 3.11 or higher."
   ]
  },
  {
   "cell_type": "code",
   "execution_count": 2,
   "id": "052268da-2212-488d-8a84-952c20c93b86",
   "metadata": {},
   "outputs": [
    {
     "name": "stdout",
     "output_type": "stream",
     "text": [
      "You are good to go\n"
     ]
    }
   ],
   "source": [
    "import sys\n",
    "if sys.version_info[0] < 3:\n",
    "    raise Exception(\"You must use Python 3\")\n",
    "\n",
    "if sys.version_info[1] < 11:\n",
    "    print(\"Autograder will execute your code based on Python 3.11 environment. Please use Python 3.11 or higher to prevent any issues\")\n",
    "    print(\"You can create a conda environment with Python 3.11 like 'conda create --name eecs545 python=3.11'\")\n",
    "    raise Exception(\"Python 3 version is too low: {}\".format(sys.version))\n",
    "else:\n",
    "    print(\"You are good to go\")"
   ]
  },
  {
   "cell_type": "markdown",
   "id": "a2f7473e-f6f6-4103-a2db-6f6bac0a118e",
   "metadata": {},
   "source": [
    "First, run this cell load the [autoreload](https://ipython.readthedocs.io/en/stable/config/extensions/autoreload.html) extension. This allows us to edit `.py` source files, and re-import them into the notebook for a seamless editing and debugging experience."
   ]
  },
  {
   "cell_type": "code",
   "execution_count": 3,
   "id": "4dfbe411-7f01-4bd1-96de-f84a51ce9ada",
   "metadata": {},
   "outputs": [],
   "source": [
    "%load_ext autoreload\n",
    "%autoreload 2"
   ]
  },
  {
   "cell_type": "markdown",
   "id": "5f00f238-ee5a-44aa-95b2-3d611aa43035",
   "metadata": {},
   "source": [
    "Once you located the `softmax_regression.py` correctly, run the following cell allow us to import from `softmax_regression.py`. If it works correctly, it should print the message:\n",
    "```Hello from softmax_regression.py```"
   ]
  },
  {
   "cell_type": "code",
   "execution_count": 4,
   "id": "dfe48494-bfcf-4cd6-ab99-5683563d0b71",
   "metadata": {},
   "outputs": [
    {
     "name": "stdout",
     "output_type": "stream",
     "text": [
      "Hello from softmax_regression.py\n"
     ]
    }
   ],
   "source": [
    "from softmax_regression import hello\n",
    "hello()"
   ]
  },
  {
   "cell_type": "markdown",
   "id": "2097b152-ed0d-4389-b9e6-4df4c50d5741",
   "metadata": {},
   "source": [
    "Then, we run some setup code for this notebook: Import some useful packages and increase the default figure size."
   ]
  },
  {
   "cell_type": "code",
   "execution_count": 5,
   "id": "b6662d2f-3952-4643-9dfb-10f08e79105b",
   "metadata": {},
   "outputs": [],
   "source": [
    "# install required libraries\n",
    "# !pip install numpy==1.24.1 scikit-learn==1.2.0\n",
    "\n",
    "# import libraries\n",
    "import math\n",
    "import numpy as np"
   ]
  },
  {
   "cell_type": "code",
   "execution_count": 6,
   "id": "8b8a2590-57e7-46b1-9b5f-0b13f41accd2",
   "metadata": {},
   "outputs": [
    {
     "data": {
      "text/html": [
       "\n",
       "<style type=\"text/css\">\n",
       "  .instruction { background-color: yellow; font-weight:bold; padding: 3px; }\n",
       "</style>\n"
      ]
     },
     "metadata": {},
     "output_type": "display_data"
    }
   ],
   "source": [
    "from IPython.display import display_html, HTML\n",
    "\n",
    "display_html(HTML('''\n",
    "<style type=\"text/css\">\n",
    "  .instruction { background-color: yellow; font-weight:bold; padding: 3px; }\n",
    "</style>\n",
    "'''));"
   ]
  },
  {
   "cell_type": "markdown",
   "id": "cb67a55b-7773-46b7-8d27-3694ecb8c655",
   "metadata": {},
   "source": [
    "## Load the dataset\n",
    "The following codebase will load the dataset and print out the dimension of each file."
   ]
  },
  {
   "cell_type": "code",
   "execution_count": 7,
   "id": "6ef9c7e3",
   "metadata": {},
   "outputs": [
    {
     "name": "stdout",
     "output_type": "stream",
     "text": [
      "Key \"q2x_train\" has shape (100, 4)\n",
      "First three rows of q2x_train are [[6.3 3.3 4.7 1.6]\n",
      " [5.1 3.8 1.9 0.4]\n",
      " [5.2 3.4 1.4 0.2]]\n",
      "Key \"q2x_test\" has shape (50, 4)\n",
      "First three rows of q2x_test are [[5.8 2.6 4.  1.2]\n",
      " [6.9 3.1 5.4 2.1]\n",
      " [5.  3.2 1.2 0.2]]\n",
      "Key \"q2y_train\" has shape (100, 1)\n",
      "First three rows of q2y_train are [[2.]\n",
      " [1.]\n",
      " [1.]]\n",
      "Key \"q2y_test\" has shape (50, 1)\n",
      "First three rows of q2y_test are [[2.]\n",
      " [3.]\n",
      " [1.]]\n",
      "We have 3 different classes in our dataset\n"
     ]
    }
   ],
   "source": [
    "import os\n",
    "filename = 'data/q2_data.npz'\n",
    "\n",
    "assert os.path.exists(filename), f\"{filename} cannot be found.\"\n",
    "\n",
    "q2_data = np.load(filename)\n",
    "for k, v in q2_data.items():\n",
    "    print(f'Key \"{k}\" has shape {v.shape}')\n",
    "    print(f'First three rows of {k} are {v[:3]}')\n",
    "\n",
    "num_classes = len(np.unique(q2_data['q2y_test']))\n",
    "print(f'We have {num_classes} different classes in our dataset')"
   ]
  },
  {
   "cell_type": "markdown",
   "id": "9a8490a5-8677-43ad-9da8-7f85997f2312",
   "metadata": {},
   "source": [
    "Note: In this problem, the indexes in y starts from 1. We have three classes now, but please be aware that we will test with various number of classes in Autograder."
   ]
  },
  {
   "cell_type": "markdown",
   "id": "83ce75eb-af7c-430c-b370-5e2f8588fde0",
   "metadata": {},
   "source": [
    "print(np.unique(q2_data['q2y_train']))\n",
    "print(np.unique(q2_data['q2y_test']))"
   ]
  },
  {
   "cell_type": "code",
   "execution_count": 8,
   "id": "d4a67524-2439-4884-9e6f-b9e82d4d6df3",
   "metadata": {},
   "outputs": [
    {
     "data": {
      "text/plain": [
       "3"
      ]
     },
     "execution_count": 8,
     "metadata": {},
     "output_type": "execute_result"
    }
   ],
   "source": [
    "num_classes"
   ]
  },
  {
   "cell_type": "markdown",
   "id": "991f69e2-e02c-4295-b8d0-6a1f8723625c",
   "metadata": {},
   "source": [
    "## Fit W to the train set of the data\n",
    "\n",
    "Now that we have prepared our data, it is time to implement the gradient ascent algorithm for softmax regression. As the first step to implment, we will first implement the softmax probability computation. <span class=\"instruction\">In the file `softmax_regression.py`, implement the function `compute_softmax_probs` that computes softmax for the data X and weight W.</span> You should double-check the numeric stability of your `compute_softmax_probs` implementations.\n",
    "\n",
    "After implementing the softmax function, we will compute the weight W by fitting the train set. In this problem, we will use the gradient ascent algorithm in. <span class=\"instruction\">Please implement gradient ascent in `gradient_ascent_train` of `softmax_regression.py`.</span>\n",
    "\n",
    "We then measure the accuracy with respect to W. You need to implement `compute_accuracy` function in `softmax_regression.py`. Once you correctly implement all the codes, you should be able to get an accuracy above 90%."
   ]
  },
  {
   "cell_type": "code",
   "execution_count": null,
   "id": "62ee3524-6d0a-4e11-a3a1-19041342d03b",
   "metadata": {},
   "outputs": [],
   "source": []
  },
  {
   "cell_type": "code",
   "execution_count": 9,
   "id": "0ac8ca8b-ff70-4149-9e34-94c8e0f44dd0",
   "metadata": {},
   "outputs": [
    {
     "name": "stdout",
     "output_type": "stream",
     "text": [
      "(3, 4)\n",
      "The accuracy of Softmax Regression - our implementation: 94.00%\n"
     ]
    }
   ],
   "source": [
    "from softmax_regression import gradient_ascent_train, compute_accuracy\n",
    "import numpy as np\n",
    "\n",
    "np.random.seed(0)\n",
    "your_accuracy = None\n",
    "W = gradient_ascent_train(q2_data['q2x_train'], q2_data['q2y_train'], num_classes)\n",
    "print(W.shape)\n",
    "\n",
    "your_accuracy = compute_accuracy(q2_data['q2x_test'], q2_data['q2y_test'], W, num_classes) * 100\n",
    "print(f'The accuracy of Softmax Regression - our implementation: {your_accuracy:.2f}%')"
   ]
  },
  {
   "cell_type": "markdown",
   "id": "76a2b45e-e7c0-462f-999b-839f321aa537",
   "metadata": {},
   "source": [
    "## Bonus: Performance comparison with SciKit-Learn\n",
    "\n",
    "At the end of this question, we would like to check whether our performance is reasonable or not. Here, we use [Logistic Regression](https://scikit-learn.org/stable/modules/generated/sklearn.linear_model.LogisticRegression.html) from [SciKit-Learn](https://scikit-learn.org/stable/). You should be able to get similar (or could be even better) performance as scikit-learn's one."
   ]
  },
  {
   "cell_type": "code",
   "execution_count": 10,
   "id": "5df36c8f-63cf-45ad-ba99-df8e95d08305",
   "metadata": {},
   "outputs": [
    {
     "name": "stdout",
     "output_type": "stream",
     "text": [
      "The accuracy of Sklearn Logistic Regression is: 92.00%\n",
      "Please compare with the accuracy of your implementation: 94.00%\n"
     ]
    },
    {
     "name": "stderr",
     "output_type": "stream",
     "text": [
      "/home/acmayo/Documents/eecs545_hw2/.venv/lib/python3.11/site-packages/sklearn/linear_model/_logistic.py:1247: FutureWarning: 'multi_class' was deprecated in version 1.5 and will be removed in 1.7. From then on, it will always use 'multinomial'. Leave it to its default value to avoid this warning.\n",
      "  warnings.warn(\n"
     ]
    }
   ],
   "source": [
    "# !pip install scikit-learn if you haven't done so\n",
    "from sklearn.linear_model import LogisticRegression\n",
    "\n",
    "# check the previous cell output\n",
    "assert your_accuracy is not None\n",
    "\n",
    "# Note: accuracy varies depends on the solver\n",
    "MLR = LogisticRegression(multi_class='multinomial',solver ='newton-cg')\n",
    "MLR.fit(q2_data['q2x_train'], np.reshape(q2_data['q2y_train'], -1) - 1)\n",
    "\n",
    "# Generate predictions and compute accuracy\n",
    "preds = MLR.predict(q2_data['q2x_test']) + 1  # the shape is (50, )\n",
    "preds = preds[:, np.newaxis]\n",
    "\n",
    "# Count the number of matched label\n",
    "accuracy = 100 * np.mean((preds == q2_data['q2y_test']).astype(np.float32))\n",
    "\n",
    "print(f'The accuracy of Sklearn Logistic Regression is: {accuracy:.2f}%')\n",
    "print(f'Please compare with the accuracy of your implementation: {your_accuracy:.2f}%')"
   ]
  },
  {
   "cell_type": "code",
   "execution_count": 25,
   "id": "1c947dc2-a0f2-405b-849f-b0fe1f624e57",
   "metadata": {},
   "outputs": [
    {
     "data": {
      "text/plain": [
       "array([[-0.44375801,  0.        , -0.03545823],\n",
       "       [ 0.        , -0.83209423, -0.88381706],\n",
       "       [ 0.        , -0.86884278, -0.91634737],\n",
       "       [-0.41670439,  0.        , -0.07483739],\n",
       "       [-0.59573972, -0.21862136,  0.        ],\n",
       "       [-0.3966987 ,  0.        , -0.00126313],\n",
       "       [-0.4902449 ,  0.        , -0.17525551],\n",
       "       [-0.62366592, -0.26283152,  0.        ],\n",
       "       [-0.46554324,  0.        , -0.12097762],\n",
       "       [-0.46159591,  0.        , -0.06812118],\n",
       "       [ 0.        , -0.87967603, -0.92150401],\n",
       "       [-0.66136505, -0.34841438,  0.        ],\n",
       "       [-0.5522322 , -0.13028032,  0.        ],\n",
       "       [-0.54785281, -0.11963302,  0.        ],\n",
       "       [-0.4903248 , -0.09383233,  0.        ],\n",
       "       [ 0.        , -0.72429103, -0.81887054],\n",
       "       [-0.51091148,  0.        , -0.21522078],\n",
       "       [-0.52665562, -0.08238027,  0.        ],\n",
       "       [-0.59176198, -0.20574606,  0.        ],\n",
       "       [-0.50224776, -0.0269573 ,  0.        ],\n",
       "       [-0.45408198,  0.        , -0.10304022],\n",
       "       [ 0.        , -0.77470039, -0.84675103],\n",
       "       [ 0.        , -0.78688521, -0.86115202],\n",
       "       [-0.51329812,  0.        , -0.11826832],\n",
       "       [-0.61158011, -0.24573324,  0.        ],\n",
       "       [-0.49457647,  0.        , -0.17396677],\n",
       "       [ 0.        , -0.78621433, -0.86083148],\n",
       "       [-0.47672841,  0.        , -0.20084297],\n",
       "       [-0.53156104, -0.07179449,  0.        ],\n",
       "       [ 0.        , -0.82256013, -0.8803924 ],\n",
       "       [ 0.        , -0.93638338, -0.9592968 ],\n",
       "       [-0.46435608,  0.        , -0.03544061],\n",
       "       [ 0.        , -0.84500041, -0.89992337],\n",
       "       [ 0.        , -0.80870624, -0.87757129],\n",
       "       [ 0.        , -0.88284502, -0.92449283],\n",
       "       [-0.51315643, -0.098619  ,  0.        ],\n",
       "       [ 0.        , -0.76202817, -0.8370491 ],\n",
       "       [-0.53169747,  0.        , -0.16775316],\n",
       "       [-0.29539032,  0.        , -0.18940356],\n",
       "       [-0.66609837, -0.35496327,  0.        ],\n",
       "       [-0.42848305,  0.        , -0.26394855],\n",
       "       [-0.50498754,  0.        , -0.05194365],\n",
       "       [-0.56609661, -0.17565099,  0.        ],\n",
       "       [-0.60890075, -0.23271218,  0.        ],\n",
       "       [-0.54014839, -0.09591067,  0.        ],\n",
       "       [-0.50218513,  0.        , -0.20645127],\n",
       "       [-0.57691794, -0.17333127,  0.        ],\n",
       "       [-0.49137074,  0.        , -0.17708966],\n",
       "       [-0.62816296, -0.27528934,  0.        ],\n",
       "       [ 0.        , -0.85727466, -0.90202038],\n",
       "       [-0.71182426, -0.43458036,  0.        ],\n",
       "       [ 0.        , -0.88918651, -0.92601077],\n",
       "       [ 0.        , -0.78339406, -0.85851781],\n",
       "       [-0.61104528, -0.22400539,  0.        ],\n",
       "       [ 0.        , -0.89369221, -0.930172  ],\n",
       "       [-0.57079467, -0.14724319,  0.        ],\n",
       "       [-0.52871435,  0.        , -0.10947697],\n",
       "       [-0.54102447,  0.        , -0.21215356],\n",
       "       [-0.55733753,  0.        , -0.19989907],\n",
       "       [-0.52691525, -0.08813272,  0.        ],\n",
       "       [ 0.        , -0.86720246, -0.91457943],\n",
       "       [-0.42205944,  0.        , -0.17362451],\n",
       "       [ 0.        , -0.78621433, -0.86083148],\n",
       "       [ 0.        , -0.81651465, -0.87562587],\n",
       "       [ 0.        , -0.90471105, -0.93711437],\n",
       "       [-0.51398427, -0.038233  ,  0.        ],\n",
       "       [-0.51525567, -0.09418675,  0.        ],\n",
       "       [ 0.        , -0.88955478, -0.92713764],\n",
       "       [-0.55367623, -0.13786268,  0.        ],\n",
       "       [ 0.        , -0.77588117, -0.85021918],\n",
       "       [ 0.        , -0.78621433, -0.86083148],\n",
       "       [-0.49248034,  0.        , -0.05318135],\n",
       "       [-0.49237541,  0.        , -0.15796538],\n",
       "       [ 0.        , -0.73986858, -0.82002397],\n",
       "       [ 0.        , -0.95668114, -0.97248653],\n",
       "       [-0.56189526,  0.        , -0.20128391],\n",
       "       [ 0.        , -0.74608233, -0.82544383],\n",
       "       [ 0.        , -0.84691023, -0.89853624],\n",
       "       [-0.54235052, -0.11243808,  0.        ],\n",
       "       [ 0.        , -0.56668349, -0.70623295],\n",
       "       [ 0.        , -0.7740113 , -0.84642573],\n",
       "       [-0.53970833, -0.09111337,  0.        ],\n",
       "       [-0.57492394,  0.        , -0.28244475],\n",
       "       [-0.48800695,  0.        , -0.09271936],\n",
       "       [-0.51133248,  0.        , -0.15697482],\n",
       "       [-0.46447797, -0.04904503,  0.        ],\n",
       "       [-0.49712278, -0.04057567,  0.        ],\n",
       "       [ 0.        , -0.8492643 , -0.90214676],\n",
       "       [-0.5208094 , -0.10216568,  0.        ],\n",
       "       [-0.35814606,  0.        , -0.1496935 ],\n",
       "       [-0.39394682,  0.        , -0.14926629],\n",
       "       [ 0.        , -0.82790968, -0.879862  ],\n",
       "       [-0.60453019, -0.24492693,  0.        ],\n",
       "       [-0.54897753, -0.10759284,  0.        ],\n",
       "       [-0.58986837, -0.19277254,  0.        ],\n",
       "       [-0.47284804,  0.        , -0.04226082],\n",
       "       [-0.51145828,  0.        , -0.21194826],\n",
       "       [-0.44687938,  0.        , -0.08344026],\n",
       "       [-0.62310162, -0.26025299,  0.        ],\n",
       "       [ 0.        , -0.84736528, -0.9000238 ]])"
      ]
     },
     "execution_count": 25,
     "metadata": {},
     "output_type": "execute_result"
    }
   ],
   "source": [
    "from softmax_regression import compute_softmax_probs\n",
    "probabilities = compute_softmax_probs(q2_data['q2x_train'], W)\n",
    "for i, row in enumerate(probabilities):\n",
    "    row_max = np.max(row)\n",
    "    probabilities[i] -= row_max\n",
    "probabilities"
   ]
  },
  {
   "cell_type": "code",
   "execution_count": 22,
   "id": "e8d4d760-4746-4382-98f8-c5aa422e932f",
   "metadata": {},
   "outputs": [
    {
     "data": {
      "text/plain": [
       "array([[4.93140739e-02, 4.93072079e-01, 4.57613847e-01],\n",
       "       [9.05303763e-01, 7.32095319e-02, 2.14867047e-02],\n",
       "       [9.28396716e-01, 5.95539340e-02, 1.20493496e-02],\n",
       "       [8.04762063e-02, 4.97180594e-01, 4.22343200e-01],\n",
       "       [9.04730893e-03, 3.86165667e-01, 6.04787024e-01],\n",
       "       [6.92885751e-02, 4.65987275e-01, 4.64724150e-01],\n",
       "       [6.49218998e-02, 5.55166804e-01, 3.79911297e-01],\n",
       "       [5.16655844e-03, 3.66000960e-01, 6.28832482e-01],\n",
       "       [6.32970498e-02, 5.28840286e-01, 4.07862664e-01],\n",
       "       [4.83097836e-02, 5.09905697e-01, 4.41784519e-01],\n",
       "       [9.33726680e-01, 5.40506468e-02, 1.22226734e-02],\n",
       "       [8.56142631e-03, 3.21512099e-01, 6.69926474e-01],\n",
       "       [8.60530743e-03, 4.30557188e-01, 5.60837505e-01],\n",
       "       [7.97580189e-03, 4.36195589e-01, 5.55828609e-01],\n",
       "       [3.77275784e-02, 4.34220047e-01, 5.28052374e-01],\n",
       "       [8.47720523e-01, 1.23429489e-01, 2.88499880e-02],\n",
       "       [6.44659386e-02, 5.75377419e-01, 3.60156642e-01],\n",
       "       [9.68967467e-03, 4.53965028e-01, 5.36345298e-01],\n",
       "       [7.40736321e-03, 3.93423289e-01, 5.99169348e-01],\n",
       "       [7.48726102e-03, 4.82777718e-01, 5.09735021e-01],\n",
       "       [6.49587547e-02, 5.19040735e-01, 4.16000511e-01],\n",
       "       [8.73817143e-01, 9.91167482e-02, 2.70661091e-02],\n",
       "       [8.82679077e-01, 9.57938649e-02, 2.15270578e-02],\n",
       "       [3.05573620e-02, 5.43855481e-01, 4.25587157e-01],\n",
       "       [7.52434014e-03, 3.73371210e-01, 6.19104450e-01],\n",
       "       [6.16046083e-02, 5.56181083e-01, 3.82214309e-01],\n",
       "       [8.82348605e-01, 9.61342728e-02, 2.15171219e-02],\n",
       "       [8.24620485e-02, 5.59190461e-01, 3.58347490e-01],\n",
       "       [2.89080545e-03, 4.62657353e-01, 5.34451842e-01],\n",
       "       [9.00984180e-01, 7.84240454e-02, 2.05917748e-02],\n",
       "       [9.65226725e-01, 2.88433445e-02, 5.92993010e-03],\n",
       "       [3.55761531e-02, 4.99932229e-01, 4.64491618e-01],\n",
       "       [9.14974592e-01, 6.99741843e-02, 1.50512239e-02],\n",
       "       [8.95425843e-01, 8.67196014e-02, 1.78545559e-02],\n",
       "       [9.35779283e-01, 5.29342633e-02, 1.12864538e-02],\n",
       "       [2.41020488e-02, 4.38639476e-01, 5.37258475e-01],\n",
       "       [8.66359090e-01, 1.04330924e-01, 2.93099856e-02],\n",
       "       [3.47860760e-02, 5.66483543e-01, 3.98730381e-01],\n",
       "       [1.99540974e-01, 4.94931292e-01, 3.05527734e-01],\n",
       "       [7.58884554e-03, 3.18723941e-01, 6.73687214e-01],\n",
       "       [1.35660815e-01, 5.64143867e-01, 3.00195318e-01],\n",
       "       [1.39895190e-02, 5.18977063e-01, 4.67033418e-01],\n",
       "       [1.44859272e-02, 4.04931539e-01, 5.80582533e-01],\n",
       "       [4.97022494e-03, 3.81158797e-01, 6.13870978e-01],\n",
       "       [5.20462873e-03, 4.49442352e-01, 5.45353019e-01],\n",
       "       [6.73603406e-02, 5.69545466e-01, 3.63094193e-01],\n",
       "       [6.49846187e-03, 4.10085134e-01, 5.83416404e-01],\n",
       "       [6.47827235e-02, 5.56153468e-01, 3.79063809e-01],\n",
       "       [6.32113755e-03, 3.59194761e-01, 6.34484101e-01],\n",
       "       [9.19765014e-01, 6.24903492e-02, 1.77446370e-02],\n",
       "       [3.64394662e-03, 2.80887847e-01, 7.15468207e-01],\n",
       "       [9.38399093e-01, 4.92125821e-02, 1.23883248e-02],\n",
       "       [8.80637291e-01, 9.72432267e-02, 2.21194825e-02],\n",
       "       [6.38277830e-04, 3.87678166e-01, 6.11683556e-01],\n",
       "       [9.41288067e-01, 4.75958623e-02, 1.11160704e-02],\n",
       "       [1.88462011e-03, 4.25436094e-01, 5.72679286e-01],\n",
       "       [1.73494267e-02, 5.46063773e-01, 4.36586800e-01],\n",
       "       [4.33682074e-02, 5.84392676e-01, 3.72239117e-01],\n",
       "       [2.84079998e-02, 5.85745535e-01, 3.85846466e-01],\n",
       "       [1.14340693e-02, 4.50216607e-01, 5.38349324e-01],\n",
       "       [9.27260630e-01, 6.00581725e-02, 1.26811977e-02],\n",
       "       [1.09835212e-01, 5.31894650e-01, 3.58270139e-01],\n",
       "       [8.82348605e-01, 9.61342728e-02, 2.15171219e-02],\n",
       "       [8.97380174e-01, 8.08655226e-02, 2.17543032e-02],\n",
       "       [9.47275140e-01, 4.25640914e-02, 1.01607684e-02],\n",
       "       [3.42148486e-03, 4.79172758e-01, 5.17405757e-01],\n",
       "       [2.12251372e-02, 4.42294056e-01, 5.36480806e-01],\n",
       "       [9.38897475e-01, 4.93426928e-02, 1.17598323e-02],\n",
       "       [1.01700746e-02, 4.25983624e-01, 5.63846301e-01],\n",
       "       [8.75366781e-01, 9.94856142e-02, 2.51476044e-02],\n",
       "       [8.82348605e-01, 9.61342728e-02, 2.15171219e-02],\n",
       "       [2.27402219e-02, 5.15220563e-01, 4.62039215e-01],\n",
       "       [5.77381880e-02, 5.50113597e-01, 3.92148215e-01],\n",
       "       [8.53297515e-01, 1.13428935e-01, 3.32735499e-02],\n",
       "       [9.76389224e-01, 1.97080819e-02, 3.90269361e-03],\n",
       "       [2.58311258e-02, 5.87726390e-01, 3.86442484e-01],\n",
       "       [8.57175386e-01, 1.11093057e-01, 3.17315564e-02],\n",
       "       [9.15148823e-01, 6.82385972e-02, 1.66125799e-02],\n",
       "       [9.24567757e-03, 4.39158123e-01, 5.51596200e-01],\n",
       "       [7.57638811e-01, 1.90955322e-01, 5.14058662e-02],\n",
       "       [8.73479010e-01, 9.94677138e-02, 2.70532766e-02],\n",
       "       [3.89890428e-03, 4.52493863e-01, 5.43607233e-01],\n",
       "       [4.41989566e-02, 6.19122898e-01, 3.36678145e-01],\n",
       "       [3.89018209e-02, 5.26908767e-01, 4.34189412e-01],\n",
       "       [4.47699521e-02, 5.56102433e-01, 3.99127615e-01],\n",
       "       [4.00296989e-02, 4.55462635e-01, 5.04507666e-01],\n",
       "       [1.54433726e-02, 4.71990479e-01, 5.12566148e-01],\n",
       "       [9.17137022e-01, 6.78727209e-02, 1.49902575e-02],\n",
       "       [2.01822953e-02, 4.38826012e-01, 5.40991693e-01],\n",
       "       [1.44467127e-01, 5.02613188e-01, 3.52919684e-01],\n",
       "       [1.20457551e-01, 5.14404370e-01, 3.65138079e-01],\n",
       "       [9.02590561e-01, 7.46808767e-02, 2.27285626e-02],\n",
       "       [1.19555134e-02, 3.71558780e-01, 6.16485706e-01],\n",
       "       [3.21259152e-03, 4.44597287e-01, 5.52190122e-01],\n",
       "       [4.34526361e-03, 4.01441098e-01, 5.94213638e-01],\n",
       "       [3.21882503e-02, 5.05036286e-01, 4.62775463e-01],\n",
       "       [6.30105653e-02, 5.74468849e-01, 3.62520586e-01],\n",
       "       [6.32271654e-02, 5.10106547e-01, 4.26666288e-01],\n",
       "       [4.68325096e-03, 3.67531879e-01, 6.27784870e-01],\n",
       "       [9.15796361e-01, 6.84310779e-02, 1.57725614e-02]])"
      ]
     },
     "execution_count": 22,
     "metadata": {},
     "output_type": "execute_result"
    }
   ],
   "source": [
    "probabilities"
   ]
  }
 ],
 "metadata": {
  "kernelspec": {
   "display_name": "Python 3 (ipykernel)",
   "language": "python",
   "name": "python3"
  },
  "language_info": {
   "codemirror_mode": {
    "name": "ipython",
    "version": 3
   },
   "file_extension": ".py",
   "mimetype": "text/x-python",
   "name": "python",
   "nbconvert_exporter": "python",
   "pygments_lexer": "ipython3",
   "version": "3.11.2"
  }
 },
 "nbformat": 4,
 "nbformat_minor": 5
}
